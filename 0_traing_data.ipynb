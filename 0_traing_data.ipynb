{
 "cells": [
  {
   "cell_type": "markdown",
   "metadata": {},
   "source": [
    "# Medical Abbreviation Data Preparation Tool\n",
    "\n",
    "This notebook processes medical descriptions from ICD-10 codes to create training data for a model that converts medical terms into standardized abbreviated formats."
   ]
  },
  {
   "cell_type": "code",
   "execution_count": 1,
   "metadata": {},
   "outputs": [],
   "source": [
    "# Import required libraries\n",
    "import pandas as pd\n",
    "import json\n",
    "import numpy as np\n",
    "from openai import OpenAI\n",
    "from tqdm import tqdm\n",
    "from concurrent.futures import ThreadPoolExecutor, as_completed"
   ]
  },
  {
   "cell_type": "markdown",
   "metadata": {},
   "source": [
    "## 1. Sample Data Creation\n",
    "\n",
    "Create example pairs of original medical terms and their abbreviated versions"
   ]
  },
  {
   "cell_type": "code",
   "execution_count": 2,
   "metadata": {},
   "outputs": [],
   "source": [
    "# Sample data: Original terms and their abbreviated versions\n",
    "icd_terms = [\n",
    "    (\"Foreign body granuloma of soft tissue, not elsewhere classified, unspecified hand\", \n",
    "     \"Foreign body gran. of soft tissue, not elsewhere class., unspec. hand\"),\n",
    "    \n",
    "    (\"Disease of spinal cord, unspecified\", \n",
    "     \"Disease of spin. cord, unspec.\"),\n",
    "    \n",
    "    (\"Acute respiratory failure, unspecified whether with hypoxia or hypercapnia\", \n",
    "     \"Acute resp. failure, unspec. whether w/ hypoxia or hypercap.\"),\n",
    "    \n",
    "    (\"Hordeolum internum right eye, unspecified eyelid\", \n",
    "     \"Hordeolum int. rt. eye, unspec. eyelid\"),\n",
    "    \n",
    "    (\"Viral infection, unspecified\", \n",
    "     \"Viral infect., unspec.\"),\n",
    "    \n",
    "    # Add more pairs as needed\n",
    "]"
   ]
  },
  {
   "cell_type": "code",
   "execution_count": 3,
   "metadata": {},
   "outputs": [
    {
     "name": "stdout",
     "output_type": "stream",
     "text": [
      "Training data saved to fine_tuning_abb.jsonl\n"
     ]
    }
   ],
   "source": [
    "# Create training data in JSONL format for fine-tuning\n",
    "with open('fine_tuning_abb.jsonl', 'w') as outfile:\n",
    "    for original, abbreviated in icd_terms:\n",
    "        json_obj = {\n",
    "            \"messages\": [\n",
    "                {\n",
    "                    \"role\": \"system\", \n",
    "                    \"content\": \"Generate the input ICD-10 descriptions with one or more standard medical abbreviations (using dots, e.g., 'unspecified' → 'unspec.', 'respiratory' → 'resp.'), while maintaining word order and medical meaning\"\n",
    "                },\n",
    "                {\n",
    "                    \"role\": \"user\", \n",
    "                    \"content\": original\n",
    "                },\n",
    "                {\n",
    "                    \"role\": \"assistant\", \n",
    "                    \"content\": abbreviated\n",
    "                }\n",
    "            ]\n",
    "        }\n",
    "        json_line = json.dumps(json_obj)\n",
    "        outfile.write(json_line + '\\n')\n",
    "print(\"Training data saved to fine_tuning_abb.jsonl\")"
   ]
  },
  {
   "cell_type": "markdown",
   "metadata": {},
   "source": [
    "## 2. Process ICD-10 Codes Dataset"
   ]
  },
  {
   "cell_type": "code",
   "execution_count": 4,
   "metadata": {},
   "outputs": [],
   "source": [
    "# Initialize OpenAI client (replace with your API key)\n",
    "client = OpenAI(api_key='YOUR_API_KEY')"
   ]
  },
  {
   "cell_type": "code",
   "execution_count": 5,
   "metadata": {},
   "outputs": [],
   "source": [
    "# Load ICD-10 dataset (adjust the path as needed)\n",
    "filename = 'icd_codes_output.jsonl'\n",
    "\n",
    "# Read the JSONL file into a DataFrame\n",
    "df = pd.read_json(filename, lines=True)\n",
    "\n",
    "# Create columns for different message roles\n",
    "df['system'] = None\n",
    "df['user'] = None\n",
    "df['assistant'] = None\n",
    "\n",
    "# Extract message content by role\n",
    "for index, row in df.iterrows():\n",
    "    for message in row['messages']:\n",
    "        if message['role'] == 'system':\n",
    "            df.at[index, 'system'] = message['content']\n",
    "        elif message['role'] == 'user':\n",
    "            df.at[index, 'user'] = message['content']\n",
    "        elif message['role'] == 'assistant':\n",
    "            df.at[index, 'assistant'] = message['content']\n",
    "\n",
    "# Remove original messages column and rename for clarity\n",
    "df.drop('messages', axis=1, inplace=True)\n",
    "df.rename(columns={'assistant': 'ground_truth'}, inplace=True)"
   ]
  },
  {
   "cell_type": "code",
   "execution_count": 6,
   "metadata": {},
   "outputs": [],
   "source": [
    "# Sample a subset of the data for processing\n",
    "sampled_df = df.sample(n=10000, random_state=1)  # For reproducibility\n",
    "sampled_df['abbreviated_description'] = None"
   ]
  },
  {
   "cell_type": "markdown",
   "metadata": {},
   "source": [
    "## 3. Apply Abbreviations with Fine-tuned Model"
   ]
  },
  {
   "cell_type": "code",
   "execution_count": 7,
   "metadata": {},
   "outputs": [],
   "source": [
    "def process_text(text):\n",
    "    \"\"\"Process text using fine-tuned model to generate abbreviated medical descriptions\"\"\"\n",
    "    response = client.chat.completions.create(\n",
    "        model=\"ft:gpt-4o-mini-2024-07-18:personal::AOfLUHmg\",  # Replace with your fine-tuned model ID\n",
    "        max_tokens=1000,\n",
    "        messages=[\n",
    "            {\"role\": \"system\", \"content\": \"Generate the input ICD-10 descriptions with one or more standard medical abbreviations (using dots, e.g., 'unspecified' → 'unspec.', 'respiratory' → 'resp.'), while maintaining word order and medical meaning\"},\n",
    "            {\"role\": \"user\", \"content\": text},\n",
    "        ]\n",
    "    )\n",
    "    return response.choices[0].message.content\n",
    "\n",
    "def process_row(index, row):\n",
    "    \"\"\"Process a single row from the dataframe\"\"\"\n",
    "    text = row['user']\n",
    "    result = process_text(text)\n",
    "    return (index, result)"
   ]
  },
  {
   "cell_type": "code",
   "execution_count": 8,
   "metadata": {},
   "outputs": [
    {
     "name": "stderr",
     "output_type": "stream",
     "text": [
      "Processing text: 100%|██████████| 10000/10000 [1:45:12<00:00, 1.58it/s]\n"
     ]
    }
   ],
   "source": [
    "# Process batch of descriptions using multiple threads\n",
    "results = {}\n",
    "batch_size = 1000  # Adjust based on your needs\n",
    "df_to_process = sampled_df.iloc[:batch_size]\n",
    "\n",
    "with ThreadPoolExecutor(max_workers=30) as executor:\n",
    "    future_to_row = {executor.submit(process_row, idx, row): idx for idx, row in df_to_process.iterrows()}\n",
    "    for future in tqdm(as_completed(future_to_row), total=len(df_to_process), desc=\"Processing text\"):\n",
    "        index, result = future.result()\n",
    "        results[index] = result\n",
    "\n",
    "# Update dataframe with results\n",
    "for index, result in results.items():\n",
    "    sampled_df.at[index, 'abbreviated_description'] = result"
   ]
  },
  {
   "cell_type": "code",
   "execution_count": 9,
   "metadata": {},
   "outputs": [],
   "source": [
    "# Save the processed data\n",
    "sampled_df.to_csv('processed_medical_abbreviations.csv', index=False)"
   ]
  },
  {
   "cell_type": "markdown",
   "metadata": {},
   "source": [
    "## 4. Generate Training Data for Model Fine-tuning"
   ]
  },
  {
   "cell_type": "code",
   "execution_count": 10,
   "metadata": {},
   "outputs": [
    {
     "name": "stdout",
     "output_type": "stream",
     "text": [
      "Fine-tuning data generated successfully\n"
     ]
    }
   ],
   "source": [
    "# Filter rows where abbreviation was actually applied\n",
    "changed_df = sampled_df[sampled_df['user'] != sampled_df['abbreviated_description']]\n",
    "\n",
    "# Create JSONL file for fine-tuning from processed data\n",
    "with open('abbreviated_medical_terms_training.jsonl', 'w') as outfile:\n",
    "    for index, row in changed_df.iterrows():\n",
    "        json_obj = {\n",
    "            \"messages\": [\n",
    "                {\n",
    "                    \"role\": \"system\",\n",
    "                    \"content\": \"You generate accurate ICD-10 codes based on descriptions.\"\n",
    "                },\n",
    "                {\n",
    "                    \"role\": \"user\",\n",
    "                    \"content\": row['abbreviated_description']\n",
    "                },\n",
    "                {\n",
    "                    \"role\": \"assistant\",\n",
    "                    \"content\": row['ground_truth']\n",
    "                }\n",
    "            ]\n",
    "        }\n",
    "        json_line = json.dumps(json_obj)\n",
    "        outfile.write(json_line + '\\n')\n",
    "\n",
    "print(\"Fine-tuning data generated successfully\")"
   ]
  },
  {
   "cell_type": "markdown",
   "metadata": {},
   "source": [
    "## 5. Analysis"
   ]
  },
  {
   "cell_type": "code",
   "execution_count": 11,
   "metadata": {},
   "outputs": [
    {
     "name": "stdout",
     "output_type": "stream",
     "text": [
      "Number of descriptions that were abbreviated: 7791\n",
      "Percentage of data that was abbreviated: 77.91%\n"
     ]
    }
   ],
   "source": [
    "# Count how many descriptions were actually abbreviated\n",
    "changed_count = len(sampled_df[sampled_df['user'] != sampled_df['abbreviated_description']])\n",
    "total_count = len(sampled_df)\n",
    "percentage = (changed_count / total_count) * 100\n",
    "\n",
    "print(f\"Number of descriptions that were abbreviated: {changed_count}\")\n",
    "print(f\"Percentage of data that was abbreviated: {percentage:.2f}%\")"
   ]
  },
  {
   "cell_type": "code",
   "execution_count": 12,
   "metadata": {},
   "outputs": [
    {
     "data": {
      "text/html": [
       "<div>\n",
       "<style scoped>\n",
       "    .dataframe tbody tr th:only-of-type {\n",
       "        vertical-align: middle;\n",
       "    }\n",
       "\n",
       "    .dataframe tbody tr th {\n",
       "        vertical-align: top;\n",
       "    }\n",
       "\n",
       "    .dataframe thead th {\n",
       "        text-align: right;\n",
       "    }\n",
       "</style>\n",
       "<table border=\"1\" class=\"dataframe\">\n",
       "  <thead>\n",
       "    <tr style=\"text-align: right;\">\n",
       "      <th></th>\n",
       "      <th>system</th>\n",
       "      <th>user</th>\n",
       "      <th>ground_truth</th>\n",
       "      <th>abbreviated_description</th>\n",
       "    </tr>\n",
       "  </thead>\n",
       "  <tbody>\n",
       "    <tr>\n",
       "      <th>0</th>\n",
       "      <td>You generate accurate ICD-10 codes based on de...</td>\n",
       "      <td>Sjogren syndrome with myopathy</td>\n",
       "      <td>M3503</td>\n",
       "      <td>Sjogren syndrome with myopath.</td>\n",
       "    </tr>\n",
       "    <tr>\n",
       "      <th>1</th>\n",
       "      <td>You generate accurate ICD-10 codes based on de...</td>\n",
       "      <td>Toxic effect of strychnine and its salts, assa...</td>\n",
       "      <td>T651X3A</td>\n",
       "      <td>Toxic effect of strychnine and its salts, assa...</td>\n",
       "    </tr>\n",
       "    <tr>\n",
       "      <th>2</th>\n",
       "      <td>You generate accurate ICD-10 codes based on de...</td>\n",
       "      <td>Generalized gingival recession, unspecified</td>\n",
       "      <td>K06020</td>\n",
       "      <td>Generalized gingival recession, unspec.</td>\n",
       "    </tr>\n",
       "  </tbody>\n",
       "</table>\n",
       "</div>"
      ],
      "text/plain": [
       "                                              system  \\\n",
       "0  You generate accurate ICD-10 codes based on de...   \n",
       "1  You generate accurate ICD-10 codes based on de...   \n",
       "2  You generate accurate ICD-10 codes based on de...   \n",
       "\n",
       "                                                user ground_truth  \\\n",
       "0                     Sjogren syndrome with myopathy        M3503   \n",
       "1  Toxic effect of strychnine and its salts, assa...      T651X3A   \n",
       "2        Generalized gingival recession, unspecified       K06020   \n",
       "\n",
       "                            abbreviated_description  \n",
       "0                     Sjogren syndrome with myopath.  \n",
       "1  Toxic effect of strychnine and its salts, assa...  \n",
       "2            Generalized gingival recession, unspec.  "
      ]
     },
     "execution_count": 12,
     "metadata": {},
     "output_type": "execute_result"
    }
   ],
   "source": [
    "# Display a few examples of the abbreviation results\n",
    "sample_results = sampled_df[['system', 'user', 'ground_truth', 'abbreviated_description']].head(3)\n",
    "sample_results"
   ]
  }
 ],
 "metadata": {
  "kernelspec": {
   "display_name": "Python 3",
   "language": "python",
   "name": "python3"
  },
  "language_info": {
   "codemirror_mode": {
    "name": "ipython",
    "version": 3
   },
   "file_extension": ".py",
   "mimetype": "text/x-python",
   "name": "python",
   "nbconvert_exporter": "python",
   "pygments_lexer": "ipython3",
   "version": "3.8.10"
  }
 },
 "nbformat": 4,
 "nbformat_minor": 4
}
